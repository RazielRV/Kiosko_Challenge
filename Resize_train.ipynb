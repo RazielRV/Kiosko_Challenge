{
 "cells": [
  {
   "cell_type": "code",
   "execution_count": 1,
   "metadata": {},
   "outputs": [],
   "source": [
    "import pandas as pd"
   ]
  },
  {
   "cell_type": "markdown",
   "metadata": {},
   "source": [
    "Once the content and quality of the data in the train dataset have been analyzed, the following actions have been determined to be performed on the dataset:\n",
    "- Eliminate the null elements corresponding to the onpromotion column.\n",
    "- It has been identified that there are some items that do not start their registration from the start of the records with a lower date, they will be eliminated in order to have the entire data history on the same start date.\n"
   ]
  },
  {
   "cell_type": "code",
   "execution_count": 2,
   "metadata": {},
   "outputs": [],
   "source": [
    "# Root folder data\n",
    "data_folder = 'data/'\n",
    "df_train = pd.read_csv(data_folder + \"train.csv\", dtype={\"id\": int, \"date\": \"object\",\n",
    "                       \"store_nbr\": int, \"item_nbr\": int, \"unit_sales\": float, \"onpromotion\": \"object\"})\n"
   ]
  },
  {
   "cell_type": "code",
   "execution_count": 3,
   "metadata": {},
   "outputs": [
    {
     "name": "stdout",
     "output_type": "stream",
     "text": [
      "<class 'pandas.core.frame.DataFrame'>\n",
      "RangeIndex: 125497040 entries, 0 to 125497039\n",
      "Data columns (total 6 columns):\n",
      " #   Column       Non-Null Count      Dtype  \n",
      "---  ------       --------------      -----  \n",
      " 0   id           125497040 non-null  int64  \n",
      " 1   date         125497040 non-null  object \n",
      " 2   store_nbr    125497040 non-null  int64  \n",
      " 3   item_nbr     125497040 non-null  int64  \n",
      " 4   unit_sales   125497040 non-null  float64\n",
      " 5   onpromotion  103839389 non-null  object \n",
      "dtypes: float64(1), int64(3), object(2)\n",
      "memory usage: 5.6+ GB\n"
     ]
    }
   ],
   "source": [
    "df_train.info(show_counts=True)"
   ]
  },
  {
   "cell_type": "code",
   "execution_count": 6,
   "metadata": {},
   "outputs": [],
   "source": [
    "df_train = df_train.dropna().reset_index(drop=True)"
   ]
  },
  {
   "cell_type": "code",
   "execution_count": 7,
   "metadata": {},
   "outputs": [
    {
     "name": "stdout",
     "output_type": "stream",
     "text": [
      "<class 'pandas.core.frame.DataFrame'>\n",
      "RangeIndex: 103839389 entries, 0 to 103839388\n",
      "Data columns (total 6 columns):\n",
      " #   Column       Non-Null Count      Dtype  \n",
      "---  ------       --------------      -----  \n",
      " 0   id           103839389 non-null  int64  \n",
      " 1   date         103839389 non-null  object \n",
      " 2   store_nbr    103839389 non-null  int64  \n",
      " 3   item_nbr     103839389 non-null  int64  \n",
      " 4   unit_sales   103839389 non-null  float64\n",
      " 5   onpromotion  103839389 non-null  object \n",
      "dtypes: float64(1), int64(3), object(2)\n",
      "memory usage: 4.6+ GB\n"
     ]
    }
   ],
   "source": [
    "df_train.info(show_counts=True)"
   ]
  },
  {
   "cell_type": "code",
   "execution_count": 8,
   "metadata": {},
   "outputs": [],
   "source": [
    "df_train['date'] = pd.to_datetime(df_train['date'])"
   ]
  },
  {
   "cell_type": "code",
   "execution_count": 10,
   "metadata": {},
   "outputs": [
    {
     "data": {
      "text/plain": [
       "Timestamp('2014-04-01 00:00:00')"
      ]
     },
     "execution_count": 10,
     "metadata": {},
     "output_type": "execute_result"
    }
   ],
   "source": [
    "# Get datae min\n",
    "fecha_minima = df_train['date'].min()\n",
    "fecha_minima"
   ]
  },
  {
   "cell_type": "code",
   "execution_count": 11,
   "metadata": {},
   "outputs": [
    {
     "data": {
      "text/html": [
       "<div>\n",
       "<style scoped>\n",
       "    .dataframe tbody tr th:only-of-type {\n",
       "        vertical-align: middle;\n",
       "    }\n",
       "\n",
       "    .dataframe tbody tr th {\n",
       "        vertical-align: top;\n",
       "    }\n",
       "\n",
       "    .dataframe thead th {\n",
       "        text-align: right;\n",
       "    }\n",
       "</style>\n",
       "<table border=\"1\" class=\"dataframe\">\n",
       "  <thead>\n",
       "    <tr style=\"text-align: right;\">\n",
       "      <th></th>\n",
       "      <th>id</th>\n",
       "      <th>date</th>\n",
       "      <th>store_nbr</th>\n",
       "      <th>item_nbr</th>\n",
       "      <th>unit_sales</th>\n",
       "      <th>onpromotion</th>\n",
       "    </tr>\n",
       "  </thead>\n",
       "  <tbody>\n",
       "    <tr>\n",
       "      <th>0</th>\n",
       "      <td>21657651</td>\n",
       "      <td>2014-04-01</td>\n",
       "      <td>1</td>\n",
       "      <td>103520</td>\n",
       "      <td>1.0</td>\n",
       "      <td>False</td>\n",
       "    </tr>\n",
       "    <tr>\n",
       "      <th>1</th>\n",
       "      <td>21657652</td>\n",
       "      <td>2014-04-01</td>\n",
       "      <td>1</td>\n",
       "      <td>103665</td>\n",
       "      <td>3.0</td>\n",
       "      <td>False</td>\n",
       "    </tr>\n",
       "    <tr>\n",
       "      <th>2</th>\n",
       "      <td>21657653</td>\n",
       "      <td>2014-04-01</td>\n",
       "      <td>1</td>\n",
       "      <td>105574</td>\n",
       "      <td>1.0</td>\n",
       "      <td>False</td>\n",
       "    </tr>\n",
       "    <tr>\n",
       "      <th>3</th>\n",
       "      <td>21657654</td>\n",
       "      <td>2014-04-01</td>\n",
       "      <td>1</td>\n",
       "      <td>105575</td>\n",
       "      <td>11.0</td>\n",
       "      <td>False</td>\n",
       "    </tr>\n",
       "    <tr>\n",
       "      <th>4</th>\n",
       "      <td>21657655</td>\n",
       "      <td>2014-04-01</td>\n",
       "      <td>1</td>\n",
       "      <td>105577</td>\n",
       "      <td>4.0</td>\n",
       "      <td>False</td>\n",
       "    </tr>\n",
       "    <tr>\n",
       "      <th>...</th>\n",
       "      <td>...</td>\n",
       "      <td>...</td>\n",
       "      <td>...</td>\n",
       "      <td>...</td>\n",
       "      <td>...</td>\n",
       "      <td>...</td>\n",
       "    </tr>\n",
       "    <tr>\n",
       "      <th>103838782</th>\n",
       "      <td>125496433</td>\n",
       "      <td>2017-08-15</td>\n",
       "      <td>54</td>\n",
       "      <td>1246785</td>\n",
       "      <td>6.0</td>\n",
       "      <td>True</td>\n",
       "    </tr>\n",
       "    <tr>\n",
       "      <th>103838783</th>\n",
       "      <td>125496434</td>\n",
       "      <td>2017-08-15</td>\n",
       "      <td>54</td>\n",
       "      <td>1250226</td>\n",
       "      <td>1.0</td>\n",
       "      <td>False</td>\n",
       "    </tr>\n",
       "    <tr>\n",
       "      <th>103838784</th>\n",
       "      <td>125496435</td>\n",
       "      <td>2017-08-15</td>\n",
       "      <td>54</td>\n",
       "      <td>1253765</td>\n",
       "      <td>4.0</td>\n",
       "      <td>False</td>\n",
       "    </tr>\n",
       "    <tr>\n",
       "      <th>103838785</th>\n",
       "      <td>125496436</td>\n",
       "      <td>2017-08-15</td>\n",
       "      <td>54</td>\n",
       "      <td>1254013</td>\n",
       "      <td>4.0</td>\n",
       "      <td>False</td>\n",
       "    </tr>\n",
       "    <tr>\n",
       "      <th>103838786</th>\n",
       "      <td>125496437</td>\n",
       "      <td>2017-08-15</td>\n",
       "      <td>54</td>\n",
       "      <td>1255777</td>\n",
       "      <td>2.0</td>\n",
       "      <td>False</td>\n",
       "    </tr>\n",
       "  </tbody>\n",
       "</table>\n",
       "<p>67029280 rows × 6 columns</p>\n",
       "</div>"
      ],
      "text/plain": [
       "                  id       date  store_nbr  item_nbr  unit_sales onpromotion\n",
       "0           21657651 2014-04-01          1    103520         1.0       False\n",
       "1           21657652 2014-04-01          1    103665         3.0       False\n",
       "2           21657653 2014-04-01          1    105574         1.0       False\n",
       "3           21657654 2014-04-01          1    105575        11.0       False\n",
       "4           21657655 2014-04-01          1    105577         4.0       False\n",
       "...              ...        ...        ...       ...         ...         ...\n",
       "103838782  125496433 2017-08-15         54   1246785         6.0        True\n",
       "103838783  125496434 2017-08-15         54   1250226         1.0       False\n",
       "103838784  125496435 2017-08-15         54   1253765         4.0       False\n",
       "103838785  125496436 2017-08-15         54   1254013         4.0       False\n",
       "103838786  125496437 2017-08-15         54   1255777         2.0       False\n",
       "\n",
       "[67029280 rows x 6 columns]"
      ]
     },
     "execution_count": 11,
     "metadata": {},
     "output_type": "execute_result"
    }
   ],
   "source": [
    "items_con_fecha_min = df_train.groupby('item_nbr').filter(\n",
    "    lambda x: fecha_minima in x['date'].values)\n",
    "items_con_fecha_min"
   ]
  },
  {
   "cell_type": "code",
   "execution_count": 12,
   "metadata": {},
   "outputs": [],
   "source": [
    "items_con_fecha_min = items_con_fecha_min.reset_index(drop=True)\n",
    "items_con_fecha_min.to_csv(\"data/train_start.csv\",index=False)"
   ]
  },
  {
   "cell_type": "code",
   "execution_count": 1,
   "metadata": {},
   "outputs": [],
   "source": [
    "import pandas as pd"
   ]
  },
  {
   "cell_type": "code",
   "execution_count": 2,
   "metadata": {},
   "outputs": [],
   "source": [
    "# Archivo raíz\n",
    "data_folder = 'data/'\n",
    "df_train = pd.read_csv(data_folder + \"train_start.csv\",\n",
    "                       dtype={\"id\": int, \"date\": \"object\", \"store_nbr\": int, \"item_nbr\": int, \"unit_sales\": float, \"onpromotion\": \"object\"})"
   ]
  },
  {
   "cell_type": "code",
   "execution_count": 3,
   "metadata": {},
   "outputs": [
    {
     "name": "stdout",
     "output_type": "stream",
     "text": [
      "<class 'pandas.core.frame.DataFrame'>\n",
      "RangeIndex: 67029280 entries, 0 to 67029279\n",
      "Data columns (total 6 columns):\n",
      " #   Column       Non-Null Count     Dtype  \n",
      "---  ------       --------------     -----  \n",
      " 0   id           67029280 non-null  int64  \n",
      " 1   date         67029280 non-null  object \n",
      " 2   store_nbr    67029280 non-null  int64  \n",
      " 3   item_nbr     67029280 non-null  int64  \n",
      " 4   unit_sales   67029280 non-null  float64\n",
      " 5   onpromotion  67029280 non-null  object \n",
      "dtypes: float64(1), int64(3), object(2)\n",
      "memory usage: 3.0+ GB\n"
     ]
    }
   ],
   "source": [
    "df_train.info(show_counts=True)"
   ]
  },
  {
   "cell_type": "code",
   "execution_count": null,
   "metadata": {},
   "outputs": [],
   "source": []
  }
 ],
 "metadata": {
  "kernelspec": {
   "display_name": "env",
   "language": "python",
   "name": "python3"
  },
  "language_info": {
   "codemirror_mode": {
    "name": "ipython",
    "version": 3
   },
   "file_extension": ".py",
   "mimetype": "text/x-python",
   "name": "python",
   "nbconvert_exporter": "python",
   "pygments_lexer": "ipython3",
   "version": "3.10.14"
  }
 },
 "nbformat": 4,
 "nbformat_minor": 2
}
